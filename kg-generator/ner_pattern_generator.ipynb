{
 "cells": [
  {
   "cell_type": "code",
   "execution_count": 1,
   "metadata": {
    "ExecuteTime": {
     "end_time": "2020-12-30T16:30:28.802773Z",
     "start_time": "2020-12-30T16:30:28.785233Z"
    }
   },
   "outputs": [],
   "source": [
    "# This module takes json inputs and outputs ner patterns \n",
    "import json\n",
    "\n"
   ]
  },
  {
   "cell_type": "code",
   "execution_count": 7,
   "metadata": {
    "ExecuteTime": {
     "end_time": "2020-12-30T17:03:26.932077Z",
     "start_time": "2020-12-30T17:03:26.926766Z"
    }
   },
   "outputs": [],
   "source": [
    "# reading properties\n",
    "with open('./data/ingredient_properties.json') as json_file:\n",
    "    properties = json.load(json_file)\n",
    "\n",
    "# print(data)"
   ]
  },
  {
   "cell_type": "code",
   "execution_count": 16,
   "metadata": {
    "ExecuteTime": {
     "end_time": "2020-12-30T17:07:39.337026Z",
     "start_time": "2020-12-30T17:07:39.329057Z"
    }
   },
   "outputs": [
    {
     "name": "stdout",
     "output_type": "stream",
     "text": [
      "['fragrance', 'antimicrobial', 'antibacterial', 'anti-aging', 'anti-blemish', 'anti-inflammatory', 'anti-oxidation', 'astringent', 'blemish skin', 'brightening', 'cleansing', 'color additive', 'dry skin', 'emollient', 'evens skin tone', 'exfoliation', 'foaming', 'fungal acne', 'humectant', 'mattifying', 'occlusive', 'oily skin', 'preservative', 'reduces irritation', 'reduces redness', 'sensitive skin', 'solvent', 'stabilizer', 'sun protection', 'texture enhancer', 'exfoliant', 'antioxidants', 'perfuming', 'deodorant', 'fragrance: synthetic and fragrant plant extracts', 'skin-replenishing', 'soothing', 'antimicrobial/antibacterial', 'sunscreen actives', 'patented combination', 'emollients', 'plant extracts']\n"
     ]
    }
   ],
   "source": [
    "# generating formatted properties\n",
    "stop_words = [\"Highly Effective\", \"Less Effective\", \"Bad\", \"Avoid\"]\n",
    "formatted_properties = [\n",
    "    'fragrance',\n",
    "    'antimicrobial',\n",
    "    'antibacterial'\n",
    "]\n",
    "for prop in properties.values():\n",
    "    # print(prop['name'])\n",
    "    prop = prop['name']\n",
    "    for stop_word in stop_words:\n",
    "        prop = prop.replace(stop_word, '')\n",
    "    prop = prop.strip()\n",
    "    prop = prop.lower()\n",
    "    # print(prop)\n",
    "    if prop not in formatted_properties:\n",
    "        formatted_properties.append(prop)\n",
    "\n",
    "print(formatted_properties)"
   ]
  },
  {
   "cell_type": "code",
   "execution_count": 26,
   "metadata": {
    "ExecuteTime": {
     "end_time": "2020-12-30T17:19:02.386847Z",
     "start_time": "2020-12-30T17:19:02.380143Z"
    }
   },
   "outputs": [
    {
     "name": "stdout",
     "output_type": "stream",
     "text": [
      "['{\"label\": \"AMPROP\", \"pattern\": \"fragrance\"}', '{\"label\": \"AMPROP\", \"pattern\": \"antimicrobial\"}', '{\"label\": \"AMPROP\", \"pattern\": \"antibacterial\"}', '{\"label\": \"AMPROP\", \"pattern\": \"anti-aging\"}', '{\"label\": \"AMPROP\", \"pattern\": \"anti-blemish\"}', '{\"label\": \"AMPROP\", \"pattern\": \"anti-inflammatory\"}', '{\"label\": \"AMPROP\", \"pattern\": \"anti-oxidation\"}', '{\"label\": \"AMPROP\", \"pattern\": \"astringent\"}', '{\"label\": \"AMPROP\", \"pattern\": \"blemish skin\"}', '{\"label\": \"AMPROP\", \"pattern\": \"brightening\"}', '{\"label\": \"AMPROP\", \"pattern\": \"cleansing\"}', '{\"label\": \"AMPROP\", \"pattern\": \"color additive\"}', '{\"label\": \"AMPROP\", \"pattern\": \"dry skin\"}', '{\"label\": \"AMPROP\", \"pattern\": \"emollient\"}', '{\"label\": \"AMPROP\", \"pattern\": \"evens skin tone\"}', '{\"label\": \"AMPROP\", \"pattern\": \"exfoliation\"}', '{\"label\": \"AMPROP\", \"pattern\": \"foaming\"}', '{\"label\": \"AMPROP\", \"pattern\": \"fungal acne\"}', '{\"label\": \"AMPROP\", \"pattern\": \"humectant\"}', '{\"label\": \"AMPROP\", \"pattern\": \"mattifying\"}', '{\"label\": \"AMPROP\", \"pattern\": \"occlusive\"}', '{\"label\": \"AMPROP\", \"pattern\": \"oily skin\"}', '{\"label\": \"AMPROP\", \"pattern\": \"preservative\"}', '{\"label\": \"AMPROP\", \"pattern\": \"reduces irritation\"}', '{\"label\": \"AMPROP\", \"pattern\": \"reduces redness\"}', '{\"label\": \"AMPROP\", \"pattern\": \"sensitive skin\"}', '{\"label\": \"AMPROP\", \"pattern\": \"solvent\"}', '{\"label\": \"AMPROP\", \"pattern\": \"stabilizer\"}', '{\"label\": \"AMPROP\", \"pattern\": \"sun protection\"}', '{\"label\": \"AMPROP\", \"pattern\": \"texture enhancer\"}', '{\"label\": \"AMPROP\", \"pattern\": \"exfoliant\"}', '{\"label\": \"AMPROP\", \"pattern\": \"antioxidants\"}', '{\"label\": \"AMPROP\", \"pattern\": \"perfuming\"}', '{\"label\": \"AMPROP\", \"pattern\": \"deodorant\"}', '{\"label\": \"AMPROP\", \"pattern\": \"fragrance: synthetic and fragrant plant extracts\"}', '{\"label\": \"AMPROP\", \"pattern\": \"skin-replenishing\"}', '{\"label\": \"AMPROP\", \"pattern\": \"soothing\"}', '{\"label\": \"AMPROP\", \"pattern\": \"antimicrobial/antibacterial\"}', '{\"label\": \"AMPROP\", \"pattern\": \"sunscreen actives\"}', '{\"label\": \"AMPROP\", \"pattern\": \"patented combination\"}', '{\"label\": \"AMPROP\", \"pattern\": \"emollients\"}', '{\"label\": \"AMPROP\", \"pattern\": \"plant extracts\"}']\n"
     ]
    }
   ],
   "source": [
    "patterns = []\n",
    "\n",
    "for prop in formatted_properties:\n",
    "    base = {\"label\": \"AMPROP\", \"pattern\": \"\"}\n",
    "    base[\"pattern\"] = prop\n",
    "    # print(base)\n",
    "    patterns.append(base)\n",
    "# patterns\n",
    "patterns = [json.dumps(pattern) for pattern in patterns]\n",
    "print(patterns)\n",
    "\n",
    "with open(\"./data/properties.jsonl\", \"w\") as f: \n",
    "    # for pattern in patterns:\n",
    "    for pattern in patterns:\n",
    "        f.write(pattern)\n",
    "        f.write('\\n')"
   ]
  }
 ],
 "metadata": {
  "kernelspec": {
   "display_name": "Python 3",
   "language": "python",
   "name": "python3"
  },
  "language_info": {
   "codemirror_mode": {
    "name": "ipython",
    "version": 3
   },
   "file_extension": ".py",
   "mimetype": "text/x-python",
   "name": "python",
   "nbconvert_exporter": "python",
   "pygments_lexer": "ipython3",
   "version": "3.8.2"
  }
 },
 "nbformat": 4,
 "nbformat_minor": 4
}
